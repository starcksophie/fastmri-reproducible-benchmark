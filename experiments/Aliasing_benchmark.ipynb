{
 "cells": [
  {
   "cell_type": "code",
   "execution_count": 1,
   "metadata": {},
   "outputs": [
    {
     "name": "stderr",
     "output_type": "stream",
     "text": [
      "Using TensorFlow backend.\n"
     ]
    }
   ],
   "source": [
    "%load_ext autoreload\n",
    "%autoreload 2\n",
    "%matplotlib inline\n",
    "import os.path as op\n",
    "import time\n",
    "\n",
    "from keras.callbacks import TensorBoard, ModelCheckpoint\n",
    "from keras.optimizers import Adam\n",
    "from keras_tqdm import TQDMNotebookCallback\n",
    "import matplotlib.pyplot as plt\n",
    "import numpy as np\n",
    "from tqdm import tqdm_notebook\n",
    "from keras.datasets import cifar10\n",
    "import seaborn as sns\n",
    "from skimage import color\n",
    "\n",
    "from fastmri_recon.data.test_generators import RandomShapeGenerator\n",
    "from fastmri_recon.data.test_generators import CifarGenerator\n",
    "from fastmri_recon.helpers.adversarial_training import compile_models, adversarial_training_loop\n",
    "from fastmri_recon.helpers.image_tboard_cback import TensorBoardImage\n",
    "from fastmri_recon.helpers.keras_utils import wasserstein_loss\n",
    "from fastmri_recon.models.discriminator import discriminator_model, generator_containing_discriminator_multiple_outputs\n",
    "from fastmri_recon.models.unet import unet\n",
    "from fastmri_recon.helpers.utils import keras_ssim, keras_psnr\n",
    "from fastmri_recon.helpers.evaluate import psnr, ssim, mse, nmse\n",
    "from fastmri_recon.helpers.fourier import fft\n",
    "from fastmri_recon.helpers.utils import gen_mask\n",
    "from fastmri_recon.helpers.reconstruction import zero_filled_recon"
   ]
  },
  {
   "cell_type": "code",
   "execution_count": 2,
   "metadata": {},
   "outputs": [],
   "source": [
    "run_params = {\n",
    "    'n_layers': 4, \n",
    "    'pool': 'max', \n",
    "    \"layers_n_channels\": [16, 32, 64, 128], \n",
    "    'layers_n_non_lins': 2,\n",
    "}\n",
    "\n",
    "im_size = 32\n",
    "\n",
    "def generator_model():\n",
    "    model = unet(input_size=(im_size, im_size, 1), **run_params, compile=False)\n",
    "    model.name = 'Reconstructor'\n",
    "    return model"
   ]
  },
  {
   "cell_type": "code",
   "execution_count": 3,
   "metadata": {},
   "outputs": [
    {
     "name": "stdout",
     "output_type": "stream",
     "text": [
      "WARNING:tensorflow:From /Users/WorkAccount/miniconda3/envs/gan/lib/python3.7/site-packages/tensorflow_core/python/ops/resource_variable_ops.py:1630: calling BaseResourceVariable.__init__ (from tensorflow.python.ops.resource_variable_ops) with constraint is deprecated and will be removed in a future version.\n",
      "Instructions for updating:\n",
      "If using Keras pass *_constraint arguments to layers.\n",
      "WARNING:tensorflow:From /Users/WorkAccount/miniconda3/envs/gan/lib/python3.7/site-packages/keras/backend/tensorflow_backend.py:4070: The name tf.nn.max_pool is deprecated. Please use tf.nn.max_pool2d instead.\n",
      "\n"
     ]
    }
   ],
   "source": [
    "g = generator_model()\n",
    "g_opt = Adam(lr=1e-3, clipnorm=1.)\n",
    "g.compile(optimizer=g_opt, loss='mse', metrics=[keras_psnr, keras_ssim])"
   ]
  },
  {
   "cell_type": "code",
   "execution_count": 4,
   "metadata": {},
   "outputs": [],
   "source": [
    "def show_images(images, cols = 1, title=None, titles = None, scale = 1, save=False):\n",
    "    n_images = len(images)\n",
    "    if titles is None: titles = ['Image (%d)' % i for i in range(1,n_images + 1)]\n",
    "    fig = plt.figure(facecolor=\"white\")\n",
    "    with sns.color_palette(\"PuBuGn_d\"):\n",
    "        for n, (image, title) in enumerate(zip(images, titles)):\n",
    "            a = fig.add_subplot(cols, np.ceil(n_images/float(cols)) +1 , n + 1)\n",
    "            plt.imshow(image, )\n",
    "            a.set_title(title)\n",
    "    #plt.colorbar()\n",
    "    fig.set_size_inches(np.array(fig.get_size_inches()) * n_images * scale)\n",
    "    if save:\n",
    "        plt.savefig(\"/Users/WorkAccount/Desktop/generator_outputs\")\n",
    "    plt.show()"
   ]
  },
  {
   "cell_type": "code",
   "execution_count": 29,
   "metadata": {},
   "outputs": [],
   "source": [
    "def alias_set(x_train):\n",
    "    images = np.empty(x_train.shape)\n",
    "    kspaces = np.empty(x_train.shape)\n",
    "    images = np.expand_dims(np.squeeze(images), axis=3)\n",
    "    kspaces = np.expand_dims(kspaces, axis=3)\n",
    "    for i in range(len(x_train)):\n",
    "        image = x_train[i]\n",
    "        image = image.astype('float32')\n",
    "        image /= 255\n",
    "        kspace = fft(image)\n",
    "        mask = gen_mask(kspace, accel_factor=2)\n",
    "        kspace *= mask\n",
    "        images[i, ..., 0] = image\n",
    "        kspaces[i, ..., 0] = kspace\n",
    "    recons = zero_filled_recon(kspaces[..., 0], crop=False)[..., None]\n",
    "    return np.expand_dims(np.squeeze(recons), axis=3), np.expand_dims(np.squeeze(x_train), axis=3)"
   ]
  },
  {
   "cell_type": "code",
   "execution_count": 39,
   "metadata": {},
   "outputs": [
    {
     "name": "stderr",
     "output_type": "stream",
     "text": [
      "/Users/WorkAccount/miniconda3/envs/gan/lib/python3.7/site-packages/ipykernel_launcher.py:14: ComplexWarning: Casting complex values to real discards the imaginary part\n",
      "  \n"
     ]
    },
    {
     "name": "stdout",
     "output_type": "stream",
     "text": [
      "(50000, 32, 32, 1) (10000, 32, 32, 1) (50000, 32, 32, 1) (50000, 32, 32, 1) (10000, 32, 32, 1) (10000, 32, 32, 1)\n"
     ]
    }
   ],
   "source": [
    "n_batches_train = 1000\n",
    "n_batches_val = 1\n",
    "AF = 2\n",
    "\n",
    "(x_train, _), (x_test, _) = cifar10.load_data()\n",
    "\n",
    "x_train = color.rgb2gray(x_train)\n",
    "x_test = color.rgb2gray(x_test)\n",
    "\n",
    "testgen = CifarGenerator(AF, im_size, x_train).flow_z_filled_random_shapes()\n",
    "\n",
    "recons, images = alias_set(x_train)\n",
    "val_recons, val_images = alias_set(x_test)\n",
    "\n",
    "\n",
    "x_train = np.expand_dims(x_train, axis=3)\n",
    "x_test = np.expand_dims(x_test, axis=3)\n",
    "\n",
    "print(x_train.shape, x_test.shape, recons.shape, images.shape, val_recons.shape, val_images.shape, )\n"
   ]
  },
  {
   "cell_type": "code",
   "execution_count": 40,
   "metadata": {},
   "outputs": [],
   "source": [
    "def ali(tup):\n",
    "    return np.squeeze(tup[0])\n",
    "def og(tup):\n",
    "    return np.squeeze(tup[1])"
   ]
  },
  {
   "cell_type": "code",
   "execution_count": 43,
   "metadata": {},
   "outputs": [
    {
     "data": {
      "image/png": "[encoded data removed]",
      "text/plain": [
       "<Figure size 1728x1152 with 4 Axes>"
      ]
     },
     "metadata": {},
     "output_type": "display_data"
    }
   ],
   "source": [
    "show_images([np.squeeze(images[0]), np.squeeze(recons[0]), np.squeeze(images[1]), np.squeeze(recons[1])])\n",
    "im = next(testgen)\n",
    "iim = next(testgen)\n",
    "show_images([og(im), ali(im), og(iim), ali(iim)])"
   ]
  },
  {
   "cell_type": "code",
   "execution_count": null,
   "metadata": {},
   "outputs": [],
   "source": [
    "epoch_num = 100\n",
    "\n",
    "run_id = f'gen_af{AF}_{int(time.time())}'\n",
    "chkpt_path = f'checkpoints/{run_id}' + '-{epoch:02d}.hdf5'\n",
    "print(run_id)"
   ]
  },
  {
   "cell_type": "code",
   "execution_count": null,
   "metadata": {},
   "outputs": [],
   "source": [
    "i=2\n",
    "show_images([np.squeeze(x_train[i]), np.squeeze(images[i]), np.squeeze(recons[i])], titles=['base', 'true', \"zero_filled\"])"
   ]
  },
  {
   "cell_type": "code",
   "execution_count": null,
   "metadata": {},
   "outputs": [],
   "source": [
    "tqdm_cb = TQDMNotebookCallback(metric_format=\"{name}: {value:e}\")\n",
    "chkpt_cback = ModelCheckpoint(chkpt_path, period=epoch_num)"
   ]
  },
  {
   "cell_type": "code",
   "execution_count": null,
   "metadata": {},
   "outputs": [],
   "source": [
    "val_recons.shape"
   ]
  },
  {
   "cell_type": "code",
   "execution_count": null,
   "metadata": {},
   "outputs": [],
   "source": [
    "%%time\n",
    "hist = g.fit(x=recons[:30000][:][:],\n",
    "             y=images[:30000][:][:],\n",
    "             epochs=200, callbacks=[tqdm_cb, chkpt_cback],\n",
    "             batch_size=200,\n",
    "             validation_data=(val_recons[:6000][:][:], val_images[:6000][:][:]))"
   ]
  },
  {
   "cell_type": "code",
   "execution_count": null,
   "metadata": {},
   "outputs": [],
   "source": [
    "def show_prediction(g, im_true, im_alias):\n",
    "    im_true = np.expand_dims(im_true, axis=3)\n",
    "    im_alias = np.expand_dims(im_alias, axis=0)\n",
    "    im_pred =  g.predict(im_alias)\n",
    "    im_true = np.squeeze(im_true)\n",
    "    im_alias = np.squeeze(im_alias)\n",
    "    im_pred = np.squeeze(im_pred)\n",
    "    print(im_pred.shape, im_true.shape, im_alias.shape)\n",
    "    show_images([im_true, im_alias, im_pred], titles=[\"true\", \"aliased\", \"predicted\"])\n",
    "    print(\"PSNR aliased image: \", psnr(im_true, im_alias), \"\\nPSNR predicted image:\", psnr(im_true, im_pred))\n",
    "    print(\"\\nMSE aliased image: \", mse(im_true, im_alias), \"\\nMSE predicted image:\", mse(im_true, im_pred))\n",
    "    print(\"\\nNMSE aliased image: \", nmse(im_true, im_alias), \"\\nNMSE predicted image:\", nmse(im_true, im_pred))\n",
    "    "
   ]
  },
  {
   "cell_type": "code",
   "execution_count": null,
   "metadata": {},
   "outputs": [],
   "source": [
    "i = 2\n",
    "show_prediction(g, val_images[i], val_recons[i])\n",
    "# im_pred =  g.predict(im_alias)\n",
    "# show_images([np.squeeze(im_true), np.squeeze(im_alias), np.squeeze(im_pred)], titles=[\"true\", \"aliased\", \"predicted\"])"
   ]
  },
  {
   "cell_type": "code",
   "execution_count": null,
   "metadata": {},
   "outputs": [],
   "source": [
    "%mkdir training_plots"
   ]
  },
  {
   "cell_type": "code",
   "execution_count": null,
   "metadata": {},
   "outputs": [],
   "source": [
    "x = [l for l in hist.history]\n",
    "print(x)"
   ]
  },
  {
   "cell_type": "code",
   "execution_count": null,
   "metadata": {},
   "outputs": [],
   "source": [
    "val = True\n",
    "fig, axs = plt.subplots(2,2,figsize=(13,15))\n",
    "images = [hist.history[l] for l in hist.history]\n",
    "titles = [l for l in hist.history]\n",
    "if val==True:\n",
    "    for i in range(len(titles)//2):\n",
    "        plt.subplot(3, 1, i+1)\n",
    "        plt.plot(images[i], label='validation')\n",
    "        print('validation', titles[i])\n",
    "        plt.plot(images[i+3], label='training')\n",
    "        print('training', titles[i+3])\n",
    "        plt.title(titles[i])\n",
    "        plt.legend()\n",
    "else:\n",
    "    for i in range(len(titles)):\n",
    "        plt.subplot(3, 1, i+1)\n",
    "        plt.plot(images[i])\n",
    "        plt.title(titles[i])\n",
    "        plt.legend()\n",
    "    plt.show()\n",
    "plt.savefig(\"./training_plots/lr3_val\")\n",
    "plt.show()"
   ]
  },
  {
   "cell_type": "code",
   "execution_count": null,
   "metadata": {},
   "outputs": [],
   "source": [
    "!ls checkpoints"
   ]
  },
  {
   "cell_type": "markdown",
   "metadata": {},
   "source": [
    "![](http://)![](http://)![](http://)<a href='./fastmri-reproducible-benchmark/checkpoints/gen_af2_1574688454-100.hdf5'> Download model </a>"
   ]
  }
 ],
 "metadata": {
  "kernelspec": {
   "display_name": "Python 3",
   "language": "python",
   "name": "python3"
  },
  "language_info": {
   "codemirror_mode": {
    "name": "ipython",
    "version": 3
   },
   "file_extension": ".py",
   "mimetype": "text/x-python",
   "name": "python",
   "nbconvert_exporter": "python",
   "pygments_lexer": "ipython3",
   "version": "3.7.5"
  }
 },
 "nbformat": 4,
 "nbformat_minor": 1
}
