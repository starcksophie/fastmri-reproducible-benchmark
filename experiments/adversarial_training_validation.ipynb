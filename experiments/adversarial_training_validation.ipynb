{
 "cells": [
  {
   "cell_type": "code",
   "execution_count": 1,
   "metadata": {},
   "outputs": [
    {
     "name": "stderr",
     "output_type": "stream",
     "text": [
      "Using TensorFlow backend.\n",
      "/Users/WorkAccount/miniconda3/envs/gan/lib/python3.7/site-packages/tensorflow/python/framework/dtypes.py:516: FutureWarning: Passing (type, 1) or '1type' as a synonym of type is deprecated; in a future version of numpy, it will be understood as (type, (1,)) / '(1,)type'.\n",
      "  _np_qint8 = np.dtype([(\"qint8\", np.int8, 1)])\n",
      "/Users/WorkAccount/miniconda3/envs/gan/lib/python3.7/site-packages/tensorflow/python/framework/dtypes.py:517: FutureWarning: Passing (type, 1) or '1type' as a synonym of type is deprecated; in a future version of numpy, it will be understood as (type, (1,)) / '(1,)type'.\n",
      "  _np_quint8 = np.dtype([(\"quint8\", np.uint8, 1)])\n",
      "/Users/WorkAccount/miniconda3/envs/gan/lib/python3.7/site-packages/tensorflow/python/framework/dtypes.py:518: FutureWarning: Passing (type, 1) or '1type' as a synonym of type is deprecated; in a future version of numpy, it will be understood as (type, (1,)) / '(1,)type'.\n",
      "  _np_qint16 = np.dtype([(\"qint16\", np.int16, 1)])\n",
      "/Users/WorkAccount/miniconda3/envs/gan/lib/python3.7/site-packages/tensorflow/python/framework/dtypes.py:519: FutureWarning: Passing (type, 1) or '1type' as a synonym of type is deprecated; in a future version of numpy, it will be understood as (type, (1,)) / '(1,)type'.\n",
      "  _np_quint16 = np.dtype([(\"quint16\", np.uint16, 1)])\n",
      "/Users/WorkAccount/miniconda3/envs/gan/lib/python3.7/site-packages/tensorflow/python/framework/dtypes.py:520: FutureWarning: Passing (type, 1) or '1type' as a synonym of type is deprecated; in a future version of numpy, it will be understood as (type, (1,)) / '(1,)type'.\n",
      "  _np_qint32 = np.dtype([(\"qint32\", np.int32, 1)])\n",
      "/Users/WorkAccount/miniconda3/envs/gan/lib/python3.7/site-packages/tensorflow/python/framework/dtypes.py:525: FutureWarning: Passing (type, 1) or '1type' as a synonym of type is deprecated; in a future version of numpy, it will be understood as (type, (1,)) / '(1,)type'.\n",
      "  np_resource = np.dtype([(\"resource\", np.ubyte, 1)])\n",
      "/Users/WorkAccount/miniconda3/envs/gan/lib/python3.7/site-packages/tensorboard/compat/tensorflow_stub/dtypes.py:541: FutureWarning: Passing (type, 1) or '1type' as a synonym of type is deprecated; in a future version of numpy, it will be understood as (type, (1,)) / '(1,)type'.\n",
      "  _np_qint8 = np.dtype([(\"qint8\", np.int8, 1)])\n",
      "/Users/WorkAccount/miniconda3/envs/gan/lib/python3.7/site-packages/tensorboard/compat/tensorflow_stub/dtypes.py:542: FutureWarning: Passing (type, 1) or '1type' as a synonym of type is deprecated; in a future version of numpy, it will be understood as (type, (1,)) / '(1,)type'.\n",
      "  _np_quint8 = np.dtype([(\"quint8\", np.uint8, 1)])\n",
      "/Users/WorkAccount/miniconda3/envs/gan/lib/python3.7/site-packages/tensorboard/compat/tensorflow_stub/dtypes.py:543: FutureWarning: Passing (type, 1) or '1type' as a synonym of type is deprecated; in a future version of numpy, it will be understood as (type, (1,)) / '(1,)type'.\n",
      "  _np_qint16 = np.dtype([(\"qint16\", np.int16, 1)])\n",
      "/Users/WorkAccount/miniconda3/envs/gan/lib/python3.7/site-packages/tensorboard/compat/tensorflow_stub/dtypes.py:544: FutureWarning: Passing (type, 1) or '1type' as a synonym of type is deprecated; in a future version of numpy, it will be understood as (type, (1,)) / '(1,)type'.\n",
      "  _np_quint16 = np.dtype([(\"quint16\", np.uint16, 1)])\n",
      "/Users/WorkAccount/miniconda3/envs/gan/lib/python3.7/site-packages/tensorboard/compat/tensorflow_stub/dtypes.py:545: FutureWarning: Passing (type, 1) or '1type' as a synonym of type is deprecated; in a future version of numpy, it will be understood as (type, (1,)) / '(1,)type'.\n",
      "  _np_qint32 = np.dtype([(\"qint32\", np.int32, 1)])\n",
      "/Users/WorkAccount/miniconda3/envs/gan/lib/python3.7/site-packages/tensorboard/compat/tensorflow_stub/dtypes.py:550: FutureWarning: Passing (type, 1) or '1type' as a synonym of type is deprecated; in a future version of numpy, it will be understood as (type, (1,)) / '(1,)type'.\n",
      "  np_resource = np.dtype([(\"resource\", np.ubyte, 1)])\n"
     ]
    }
   ],
   "source": [
    "%load_ext autoreload\n",
    "%autoreload 2\n",
    "%matplotlib inline\n",
    "\n",
    "import codecs\n",
    "from keras.optimizers import Adam\n",
    "from keras.datasets import cifar10\n",
    "import json\n",
    "import matplotlib.pyplot as plt\n",
    "import matplotlib.image as mpimg\n",
    "import numpy as np\n",
    "import os\n",
    "import pandas as pd\n",
    "from skimage import color\n",
    "from skimage.measure import compare_psnr, compare_ssim\n",
    "import time\n",
    "from tqdm import tqdm_notebook\n",
    "\n",
    "from fastmri_recon.helpers.evaluate import METRIC_FUNCS, Metrics\n",
    "from fastmri_recon.helpers.utils import keras_ssim, keras_psnr\n",
    "from fastmri_recon.data.test_generators import DataGenerator\n",
    "from fastmri_recon.models.unet import unet\n",
    "from fastmri_recon.helpers.evaluate import psnr, ssim, mse, nmse\n",
    "from fastmri_recon.models.discriminator import discriminator_model, generator_containing_discriminator_multiple_outputs\n",
    "from fastmri_recon.helpers.adversarial_training import compile_models\n",
    "\n"
   ]
  },
  {
   "cell_type": "markdown",
   "metadata": {},
   "source": [
    "Link to dl the dataset: http://chaladze.com/l5/"
   ]
  },
  {
   "cell_type": "code",
   "execution_count": 2,
   "metadata": {},
   "outputs": [],
   "source": [
    "def load_data(path):\n",
    "    path_train = path + \"train/\"\n",
    "    path_test = path + \"test/\"\n",
    "    train = os.listdir(path_train)\n",
    "    train_data = []\n",
    "    for s in train:\n",
    "        for image in os.listdir(path_train+s):       \n",
    "            train_data.append(mpimg.imread(path_train+s+'/'+image))\n",
    "\n",
    "    test = os.listdir(path_test)\n",
    "    test_data = []\n",
    "    for s in test:\n",
    "        for image in os.listdir(path_test+s):          \n",
    "            test_data.append(mpimg.imread(path_test+s+'/'+image))\n",
    "\n",
    "    x_train = color.rgb2gray(np.array(train_data))\n",
    "    x_test = color.rgb2gray( np.array(test_data))\n",
    "\n",
    "    return x_train, x_test"
   ]
  },
  {
   "cell_type": "code",
   "execution_count": 3,
   "metadata": {},
   "outputs": [],
   "source": [
    "#load data\n",
    "\n",
    "AF=2\n",
    "path=\"/Users/WorkAccount/Desktop/Linnaeus_5_64X64/\"\n",
    "\n",
    "if path != \"\":\n",
    "    x_train, x_test = load_data(path)\n",
    "else:\n",
    "    (x_train, _), (x_test, _) = cifar10.load_data()\n",
    "    x_train = color.rgb2gray(x_train)\n",
    "    x_test = color.rgb2gray(x_test)\n",
    "\n",
    "im_shape = x_train.shape\n",
    "\n",
    "val_gen = DataGenerator(AF, x_test).flow_z_filled_images()"
   ]
  },
  {
   "cell_type": "code",
   "execution_count": 4,
   "metadata": {},
   "outputs": [],
   "source": [
    "all_net_params = [\n",
    "    {\n",
    "        'name': 'unet_gan',\n",
    "        'init_function': unet,\n",
    "        'run_params': {\n",
    "            'n_layers': 4, \n",
    "            'pool': 'max', \n",
    "            \"layers_n_channels\": [16, 32, 64, 128], \n",
    "            'layers_n_non_lins': 2,\n",
    "            \"input_size\":(64, 64, 1),\n",
    "        },\n",
    "        'val_gen': val_gen,\n",
    "        'run_id': 'unet_gan_af2_1576259200',\n",
    "    },\n",
    "]"
   ]
  },
  {
   "cell_type": "code",
   "execution_count": 5,
   "metadata": {},
   "outputs": [],
   "source": [
    "def unpack_model(init_function=None, run_params=None, run_id=None, epoch=50, **dummy_kwargs):\n",
    "        g = init_function(**run_params)\n",
    "        g.name = 'Reconstructor'\n",
    "        chkpt_path = f'../checkpoints/{run_id}-{epoch}.hdf5'\n",
    "        g.load_weights(chkpt_path)\n",
    "        return g\n",
    "\n",
    "def original_metrics(val_gen=None):\n",
    "    name='original metrics'\n",
    "    metrics = Metrics(METRIC_FUNCS)\n",
    "    vals=[]\n",
    "    for i in tqdm_notebook(range(x_test.shape[0]), desc=f'Val files for {name}'):\n",
    "        x, y = next(val_gen)\n",
    "        vals.append((np.squeeze(x, axis=3), np.squeeze(y, axis=3)))\n",
    "    for im_recos, images in tqdm_notebook(vals, desc=f'Stats for {name}'):\n",
    "        metrics.push(images, im_recos)\n",
    "    print(len(vals))\n",
    "    return metrics\n",
    "\n",
    "def metrics_for_params(val_gen=None, name=None, **net_params):\n",
    "    g = unpack_model(**net_params)\n",
    "    metrics = Metrics(METRIC_FUNCS)\n",
    "    pred_and_gt=[]\n",
    "    for i in tqdm_notebook(range(x_test.shape[0]), desc=f'Val files for {name}'):\n",
    "        x, y = next(val_gen)\n",
    "        pred_and_gt.append((np.squeeze(g.predict(x), axis=3), np.squeeze(y, axis=3)))\n",
    "    for im_recos, images in tqdm_notebook(pred_and_gt, desc=f'Stats for {name}'):\n",
    "        metrics.push(images, im_recos)\n",
    "    print(len(pred_and_gt))\n",
    "    return metrics"
   ]
  },
  {
   "cell_type": "code",
   "execution_count": null,
   "metadata": {},
   "outputs": [
    {
     "name": "stderr",
     "output_type": "stream",
     "text": [
      "/Users/WorkAccount/miniconda3/envs/gan/lib/python3.7/site-packages/ipykernel_launcher.py:12: TqdmDeprecationWarning: This function will be removed in tqdm==5.0.0\n",
      "Please use `tqdm.notebook.tqdm` instead of `tqdm.tqdm_notebook`\n",
      "  if sys.path[0] == '':\n"
     ]
    },
    {
     "data": {
      "application/vnd.jupyter.widget-view+json": {
       "model_id": "fcd281b0579a4f9f84e20ebf850a7873",
       "version_major": 2,
       "version_minor": 0
      },
      "text/plain": [
       "HBox(children=(IntProgress(value=0, description='Val files for original metrics', max=2000, style=ProgressStyl…"
      ]
     },
     "metadata": {},
     "output_type": "display_data"
    },
    {
     "name": "stderr",
     "output_type": "stream",
     "text": [
      "/Users/WorkAccount/fastmri-reproducible-benchmark/fastmri_recon/data/test_generators.py:74: ComplexWarning: Casting complex values to real discards the imaginary part\n",
      "  kspaces[i, ..., 0] = kspace\n",
      "/Users/WorkAccount/fastmri-reproducible-benchmark/fastmri_recon/helpers/reconstruction.py:40: ComplexWarning: Casting complex values to real discards the imaginary part\n",
      "  x_final[i] = fourier_op.adj_op(kspace)\n"
     ]
    },
    {
     "name": "stdout",
     "output_type": "stream",
     "text": [
      "\n"
     ]
    },
    {
     "name": "stderr",
     "output_type": "stream",
     "text": [
      "/Users/WorkAccount/miniconda3/envs/gan/lib/python3.7/site-packages/ipykernel_launcher.py:15: TqdmDeprecationWarning: This function will be removed in tqdm==5.0.0\n",
      "Please use `tqdm.notebook.tqdm` instead of `tqdm.tqdm_notebook`\n",
      "  from ipykernel import kernelapp as app\n"
     ]
    },
    {
     "data": {
      "application/vnd.jupyter.widget-view+json": {
       "model_id": "62524226850543b584858a133d50d5ff",
       "version_major": 2,
       "version_minor": 0
      },
      "text/plain": [
       "HBox(children=(IntProgress(value=0, description='Stats for original metrics', max=2000, style=ProgressStyle(de…"
      ]
     },
     "metadata": {},
     "output_type": "display_data"
    },
    {
     "name": "stderr",
     "output_type": "stream",
     "text": [
      "/Users/WorkAccount/fastmri-reproducible-benchmark/fastmri_recon/helpers/evaluate.py:25: UserWarning: DEPRECATED: skimage.measure.compare_psnr has been moved to skimage.metrics.peak_signal_noise_ratio. It will be removed from skimage.measure in version 0.18.\n",
      "  return compare_psnr(gt, pred, data_range=gt.max() - gt.min())\n",
      "/Users/WorkAccount/fastmri-reproducible-benchmark/fastmri_recon/helpers/evaluate.py:31: UserWarning: DEPRECATED: skimage.measure.compare_ssim has been moved to skimage.metrics.structural_similarity. It will be removed from skimage.measure in version 0.18.\n",
      "  gt.transpose(1, 2, 0), pred.transpose(1, 2, 0), multichannel=True, data_range=gt.max() - gt.min()\n"
     ]
    },
    {
     "name": "stdout",
     "output_type": "stream",
     "text": [
      "\n",
      "2000\n",
      "WARNING:tensorflow:From /Users/WorkAccount/miniconda3/envs/gan/lib/python3.7/site-packages/keras/backend/tensorflow_backend.py:4070: The name tf.nn.max_pool is deprecated. Please use tf.nn.max_pool2d instead.\n",
      "\n"
     ]
    },
    {
     "name": "stderr",
     "output_type": "stream",
     "text": [
      "/Users/WorkAccount/miniconda3/envs/gan/lib/python3.7/site-packages/ipykernel_launcher.py:24: TqdmDeprecationWarning: This function will be removed in tqdm==5.0.0\n",
      "Please use `tqdm.notebook.tqdm` instead of `tqdm.tqdm_notebook`\n"
     ]
    },
    {
     "data": {
      "application/vnd.jupyter.widget-view+json": {
       "model_id": "0e0b508955134cd28f18958eb9f4eec7",
       "version_major": 2,
       "version_minor": 0
      },
      "text/plain": [
       "HBox(children=(IntProgress(value=0, description='Val files for unet_gan', max=2000, style=ProgressStyle(descri…"
      ]
     },
     "metadata": {},
     "output_type": "display_data"
    },
    {
     "name": "stdout",
     "output_type": "stream",
     "text": [
      "WARNING:tensorflow:From /Users/WorkAccount/miniconda3/envs/gan/lib/python3.7/site-packages/keras/backend/tensorflow_backend.py:422: The name tf.global_variables is deprecated. Please use tf.compat.v1.global_variables instead.\n",
      "\n"
     ]
    }
   ],
   "source": [
    "%%time\n",
    "metrics = []\n",
    "metrics.append(('original metrics', original_metrics(val_gen)))\n",
    "for net_params in all_net_params:\n",
    "    metrics.append((net_params['name'], metrics_for_params(**net_params)))"
   ]
  },
  {
   "cell_type": "code",
   "execution_count": null,
   "metadata": {},
   "outputs": [],
   "source": [
    "print(metrics)"
   ]
  },
  {
   "cell_type": "code",
   "execution_count": null,
   "metadata": {},
   "outputs": [],
   "source": [
    "def n_model_params_for_params(val_gen=None, name=None, **net_params):\n",
    "    model = unpack_model(**net_params)\n",
    "    n_params = model.count_params()\n",
    "    return n_params"
   ]
  },
  {
   "cell_type": "code",
   "execution_count": null,
   "metadata": {},
   "outputs": [],
   "source": [
    "%%time\n",
    "n_params = {}\n",
    "for net_params in all_net_params:\n",
    "    n_params[net_params['name']] =  n_model_params_for_params(**net_params)"
   ]
  },
  {
   "cell_type": "code",
   "execution_count": null,
   "metadata": {},
   "outputs": [],
   "source": [
    "def runtime_for_params(reco_function=None, val_gen=None, name=None, **net_params):\n",
    "    g = unpack_model(**net_params)\n",
    "    x, y = next(val_gen)\n",
    "    start = time.time()\n",
    "    pred = g.predict(x)\n",
    "    end = time.time()\n",
    "    return end - start"
   ]
  },
  {
   "cell_type": "code",
   "execution_count": null,
   "metadata": {},
   "outputs": [],
   "source": [
    "%%time\n",
    "runtimes = {}\n",
    "all_net_params\n",
    "for net_params in tqdm_notebook(all_net_params):\n",
    "    runtimes[net_params['name']] =  runtime_for_params(**net_params)"
   ]
  },
  {
   "cell_type": "code",
   "execution_count": null,
   "metadata": {},
   "outputs": [],
   "source": [
    "metrics_table = pd.DataFrame(\n",
    "    index=[name for name, _ in metrics], \n",
    "    columns=['PSNR-mean (std) (dB)', 'SSIM-mean (std)', '# params', 'Runtime (s)'],\n",
    ")\n",
    "\n",
    "for name, m in metrics:\n",
    "    metrics_table.loc[name, 'PSNR-mean (std) (dB)'] = \"{mean:.4} ({std:.4})\".format(\n",
    "        mean=m.metrics['PSNR'].mean(), \n",
    "        std=m.metrics['PSNR'].stddev(),\n",
    "    )\n",
    "    metrics_table.loc[name, 'SSIM-mean (std)'] = \"{mean:.4} ({std:.4})\".format(\n",
    "        mean=m.metrics['SSIM'].mean(), \n",
    "        std=m.metrics['SSIM'].stddev(),\n",
    "    )\n",
    "    if name != 'original metrics':\n",
    "        metrics_table.loc[name, '# params'] = \"{}\".format(\n",
    "            n_params[name], \n",
    "         )\n",
    "        metrics_table.loc[name, 'Runtime (s)'] = \"{runtime:.4}\".format(\n",
    "            runtime=runtimes[name], \n",
    "        )"
   ]
  },
  {
   "cell_type": "code",
   "execution_count": null,
   "metadata": {},
   "outputs": [],
   "source": [
    "metrics_table"
   ]
  },
  {
   "cell_type": "code",
   "execution_count": null,
   "metadata": {},
   "outputs": [],
   "source": []
  }
 ],
 "metadata": {
  "kernelspec": {
   "display_name": "Python 3",
   "language": "python",
   "name": "python3"
  },
  "language_info": {
   "codemirror_mode": {
    "name": "ipython",
    "version": 3
   },
   "file_extension": ".py",
   "mimetype": "text/x-python",
   "name": "python",
   "nbconvert_exporter": "python",
   "pygments_lexer": "ipython3",
   "version": "3.7.5"
  }
 },
 "nbformat": 4,
 "nbformat_minor": 1
}
