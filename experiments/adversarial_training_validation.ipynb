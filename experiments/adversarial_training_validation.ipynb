{
 "cells": [
  {
   "cell_type": "code",
   "execution_count": 1,
   "metadata": {},
   "outputs": [
    {
     "name": "stderr",
     "output_type": "stream",
     "text": [
      "Using TensorFlow backend.\n"
     ]
    }
   ],
   "source": [
    "%load_ext autoreload\n",
    "%autoreload 2\n",
    "%matplotlib inline\n",
    "\n",
    "import os\n",
    "import time\n",
    "import matplotlib.pyplot as plt\n",
    "import json, codecs\n",
    "import numpy as np\n",
    "from skimage import color\n",
    "from keras.optimizers import Adam\n",
    "from keras.datasets import cifar10\n",
    "import matplotlib.image as mpimg\n",
    "\n",
    "from fastmri_recon.helpers.utils import keras_ssim, keras_psnr\n",
    "from fastmri_recon.data.test_generators import DataGenerator\n",
    "from fastmri_recon.models.unet import unet\n",
    "from fastmri_recon.helpers.evaluate import psnr, ssim, mse, nmse\n",
    "\n",
    "from fastmri_recon.models.discriminator import discriminator_model, generator_containing_discriminator_multiple_outputs\n",
    "from fastmri_recon.helpers.adversarial_training import compile_models\n"
   ]
  },
  {
   "cell_type": "code",
   "execution_count": 2,
   "metadata": {},
   "outputs": [],
   "source": [
    "# parameter initialization\n",
    "\n",
    "AF=2\n",
    "run_params = {\n",
    "    'n_layers': 4, \n",
    "    'pool': 'max', \n",
    "    \"layers_n_channels\": [16, 32, 64, 128], \n",
    "    'layers_n_non_lins': 2,\n",
    "}"
   ]
  },
  {
   "cell_type": "code",
   "execution_count": 3,
   "metadata": {},
   "outputs": [],
   "source": [
    "def load_data(path):\n",
    "    path_train = path + \"train/\"\n",
    "    path_test = path + \"test/\"\n",
    "    train = os.listdir(path_train)\n",
    "    train_data = []\n",
    "    for s in train:\n",
    "        for image in os.listdir(path_train+s):       \n",
    "            train_data.append(mpimg.imread(path_train+s+'/'+image))\n",
    "\n",
    "    test = os.listdir(path_test)\n",
    "    test_data = []\n",
    "    for s in test:\n",
    "        for image in os.listdir(path_test+s):          \n",
    "            test_data.append(mpimg.imread(path_test+s+'/'+image))\n",
    "\n",
    "    x_train = color.rgb2gray(np.array(train_data))\n",
    "    x_test = color.rgb2gray( np.array(test_data))\n",
    "\n",
    "    return x_train, x_test"
   ]
  },
  {
   "cell_type": "code",
   "execution_count": 4,
   "metadata": {},
   "outputs": [
    {
     "name": "stdout",
     "output_type": "stream",
     "text": [
      "32\n"
     ]
    }
   ],
   "source": [
    "#load data\n",
    "\n",
    "path=\"\"\n",
    "\n",
    "if path != \"\":\n",
    "    x_train, x_test = load_data(path)\n",
    "else:\n",
    "    (x_train, _), (x_test, _) = cifar10.load_data()\n",
    "    x_train = color.rgb2gray(x_train)\n",
    "    x_test = color.rgb2gray(x_test)\n",
    "\n",
    "im_size = x_train[0].shape[0]\n",
    "print(im_size)\n",
    "val_gen = DataGenerator(AF, x_test).flow_z_filled_images()\n",
    "train_gen = DataGenerator(AF, x_train).flow_z_filled_images()"
   ]
  },
  {
   "cell_type": "code",
   "execution_count": 5,
   "metadata": {},
   "outputs": [],
   "source": [
    "def generator_model():\n",
    "    model = unet(input_size=(im_size, im_size, 1), **run_params, compile=False)\n",
    "    model.name = 'Reconstructor'\n",
    "    return model"
   ]
  },
  {
   "cell_type": "code",
   "execution_count": 6,
   "metadata": {},
   "outputs": [
    {
     "name": "stdout",
     "output_type": "stream",
     "text": [
      "WARNING:tensorflow:From /Users/WorkAccount/miniconda3/envs/gan/lib/python3.7/site-packages/tensorflow_core/python/ops/resource_variable_ops.py:1630: calling BaseResourceVariable.__init__ (from tensorflow.python.ops.resource_variable_ops) with constraint is deprecated and will be removed in a future version.\n",
      "Instructions for updating:\n",
      "If using Keras pass *_constraint arguments to layers.\n",
      "WARNING:tensorflow:From /Users/WorkAccount/miniconda3/envs/gan/lib/python3.7/site-packages/keras/backend/tensorflow_backend.py:4070: The name tf.nn.max_pool is deprecated. Please use tf.nn.max_pool2d instead.\n",
      "\n"
     ]
    }
   ],
   "source": [
    "# model definitions\n",
    "g = generator_model()\n",
    "d = discriminator_model(im_size)\n",
    "d_on_g = generator_containing_discriminator_multiple_outputs(g, d, im_size=im_size)"
   ]
  },
  {
   "cell_type": "code",
   "execution_count": 7,
   "metadata": {},
   "outputs": [],
   "source": [
    "# model compiling\n",
    "perceptual_loss = 'mae'\n",
    "\n",
    "discriminator_lr = 1e-4\n",
    "d_on_reconstructor_lr = 1e-4\n",
    "\n",
    "compile_models(\n",
    "    d, \n",
    "    g, \n",
    "    d_on_g, \n",
    "    d_lr=discriminator_lr, \n",
    "    d_on_g_lr=d_on_reconstructor_lr, \n",
    "    perceptual_loss=perceptual_loss, \n",
    "    perceptual_weight=1.0,\n",
    ")"
   ]
  },
  {
   "cell_type": "code",
   "execution_count": 9,
   "metadata": {},
   "outputs": [],
   "source": [
    "# load weights\n",
    "path = '../checkpoints/gen_af2_1576070105-30.hdf5'\n",
    "g.load_weights(path)"
   ]
  },
  {
   "cell_type": "code",
   "execution_count": 10,
   "metadata": {},
   "outputs": [
    {
     "name": "stdout",
     "output_type": "stream",
     "text": [
      "WARNING:tensorflow:From /Users/WorkAccount/miniconda3/envs/gan/lib/python3.7/site-packages/keras/backend/tensorflow_backend.py:422: The name tf.global_variables is deprecated. Please use tf.compat.v1.global_variables instead.\n",
      "\n",
      "  1/200 [..............................] - ETA: 41s"
     ]
    },
    {
     "name": "stderr",
     "output_type": "stream",
     "text": [
      "/Users/WorkAccount/fastmri-reproducible-benchmark/fastmri_recon/data/test_generators.py:76: ComplexWarning: Casting complex values to real discards the imaginary part\n",
      "  kspaces[i, ..., 0] = kspace\n",
      "/Users/WorkAccount/fastmri-reproducible-benchmark/fastmri_recon/helpers/reconstruction.py:40: ComplexWarning: Casting complex values to real discards the imaginary part\n",
      "  x_final[i] = fourier_op.adj_op(kspace)\n"
     ]
    },
    {
     "name": "stdout",
     "output_type": "stream",
     "text": [
      "200/200 [==============================] - 1s 7ms/step\n",
      "test loss, psnr,ssim: [0.09779807925224304, 15.19767951965332, 0.4293854534626007, 0.024660658091306686]\n"
     ]
    }
   ],
   "source": [
    "# evaluate generator\n",
    "ev = g.evaluate_generator(val_gen, steps=200, callbacks=None, verbose=1)\n",
    "print('test loss, psnr,ssim:', ev)\n"
   ]
  },
  {
   "cell_type": "code",
   "execution_count": 11,
   "metadata": {},
   "outputs": [],
   "source": [
    "def show_images(images, cols = 1, title=None, titles = None, scale = 1, save=''):\n",
    "    n_images = len(images)\n",
    "    if titles is None: titles = ['Image (%d)' % i for i in range(1,n_images + 1)]\n",
    "    fig = plt.figure(facecolor=\"white\")\n",
    "    for n, (image, title) in enumerate(zip(images, titles)):\n",
    "        a = fig.add_subplot(cols, np.ceil(n_images/float(cols)) +1 , n + 1)\n",
    "        plt.imshow(image, )\n",
    "        a.set_title(title)\n",
    "    fig.set_size_inches(np.array(fig.get_size_inches()) * n_images * scale)\n",
    "    if save != '':\n",
    "        plt.savefig(save)\n",
    "    plt.show()"
   ]
  },
  {
   "cell_type": "code",
   "execution_count": 12,
   "metadata": {},
   "outputs": [],
   "source": [
    "def show_prediction(g, im_true, im_alias):\n",
    "    im_pred =  g.predict(im_alias)\n",
    "    im_true = np.squeeze(im_true)\n",
    "    im_alias = np.squeeze(im_alias)\n",
    "    im_pred = np.squeeze(im_pred)\n",
    "    show_images([im_true, im_alias, im_pred], titles=[\"true\", \"aliased\", \"predicted\"])\n",
    "    print(\"PSNR aliased image: \", psnr(im_true, im_alias), \"\\nPSNR predicted image:\", psnr(im_true, im_pred))\n",
    "    print(\"\\nMSE aliased image: \", mse(im_true, im_alias), \"\\nMSE predicted image:\", mse(im_true, im_pred))\n",
    "    print(\"\\nNMSE aliased image: \", nmse(im_true, im_alias), \"\\nNMSE predicted image:\", nmse(im_true, im_pred))\n",
    "    "
   ]
  },
  {
   "cell_type": "code",
   "execution_count": 13,
   "metadata": {},
   "outputs": [
    {
     "data": {
      "image/png": "[encoded data removed]",
      "text/plain": [
       "<Figure size 1296x864 with 3 Axes>"
      ]
     },
     "metadata": {},
     "output_type": "display_data"
    },
    {
     "name": "stdout",
     "output_type": "stream",
     "text": [
      "PSNR aliased image:  5.047947842533134 \n",
      "PSNR predicted image: 10.806999027398458\n",
      "\n",
      "MSE aliased image:  0.23779987546930592 \n",
      "MSE predicted image: 0.06314028013022023\n",
      "\n",
      "NMSE aliased image:  0.9938461993970181 \n",
      "NMSE predicted image: 0.2638846101682763\n"
     ]
    },
    {
     "name": "stderr",
     "output_type": "stream",
     "text": [
      "/Users/WorkAccount/fastmri-reproducible-benchmark/fastmri_recon/helpers/evaluate.py:25: UserWarning: DEPRECATED: skimage.measure.compare_psnr has been moved to skimage.metrics.peak_signal_noise_ratio. It will be removed from skimage.measure in version 0.18.\n",
      "  return compare_psnr(gt, pred, data_range=gt.max() - gt.min())\n"
     ]
    }
   ],
   "source": [
    "im = next(val_gen)\n",
    "show_prediction(g, im[1], im[0])"
   ]
  },
  {
   "cell_type": "code",
   "execution_count": null,
   "metadata": {},
   "outputs": [],
   "source": []
  },
  {
   "cell_type": "code",
   "execution_count": null,
   "metadata": {},
   "outputs": [],
   "source": []
  }
 ],
 "metadata": {
  "kernelspec": {
   "display_name": "Python 3",
   "language": "python",
   "name": "python3"
  },
  "language_info": {
   "codemirror_mode": {
    "name": "ipython",
    "version": 3
   },
   "file_extension": ".py",
   "mimetype": "text/x-python",
   "name": "python",
   "nbconvert_exporter": "python",
   "pygments_lexer": "ipython3",
   "version": "3.7.5"
  }
 },
 "nbformat": 4,
 "nbformat_minor": 1
}
