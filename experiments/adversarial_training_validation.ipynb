{
 "cells": [
  {
   "cell_type": "code",
   "execution_count": 200,
   "metadata": {},
   "outputs": [
    {
     "name": "stdout",
     "output_type": "stream",
     "text": [
      "The autoreload extension is already loaded. To reload it, use:\n",
      "  %reload_ext autoreload\n"
     ]
    }
   ],
   "source": [
    "%load_ext autoreload\n",
    "%autoreload 2\n",
    "%matplotlib inline\n",
    "\n",
    "import codecs\n",
    "from keras.optimizers import Adam\n",
    "from keras.datasets import cifar10\n",
    "import json\n",
    "import matplotlib.pyplot as plt\n",
    "import matplotlib.image as mpimg\n",
    "import numpy as np\n",
    "import os\n",
    "import pandas as pd\n",
    "from skimage import color\n",
    "from skimage.measure import compare_psnr, compare_ssim\n",
    "import time\n",
    "from tqdm import tqdm_notebook\n",
    "\n",
    "from fastmri_recon.helpers.evaluate import METRIC_FUNCS, Metrics\n",
    "from fastmri_recon.helpers.utils import keras_ssim, keras_psnr\n",
    "from fastmri_recon.data.test_generators import DataGenerator\n",
    "from fastmri_recon.models.unet import unet\n",
    "from fastmri_recon.helpers.evaluate import psnr, ssim, mse, nmse\n",
    "from fastmri_recon.models.discriminator import discriminator_model, generator_containing_discriminator_multiple_outputs\n",
    "from fastmri_recon.helpers.adversarial_training import compile_models\n",
    "\n"
   ]
  },
  {
   "cell_type": "markdown",
   "metadata": {},
   "source": [
    "Link to dl the dataset: http://chaladze.com/l5/"
   ]
  },
  {
   "cell_type": "code",
   "execution_count": 149,
   "metadata": {},
   "outputs": [],
   "source": [
    "def load_data(path):\n",
    "    path_train = path + \"train/\"\n",
    "    path_test = path + \"test/\"\n",
    "    train = os.listdir(path_train)\n",
    "    train_data = []\n",
    "    for s in train:\n",
    "        for image in os.listdir(path_train+s):       \n",
    "            train_data.append(mpimg.imread(path_train+s+'/'+image))\n",
    "\n",
    "    test = os.listdir(path_test)\n",
    "    test_data = []\n",
    "    for s in test:\n",
    "        for image in os.listdir(path_test+s):          \n",
    "            test_data.append(mpimg.imread(path_test+s+'/'+image))\n",
    "\n",
    "    x_train = color.rgb2gray(np.array(train_data))\n",
    "    x_test = color.rgb2gray( np.array(test_data))\n",
    "\n",
    "    return x_train, x_test"
   ]
  },
  {
   "cell_type": "code",
   "execution_count": 150,
   "metadata": {},
   "outputs": [],
   "source": [
    "#load data\n",
    "\n",
    "AF=2\n",
    "path=\"/Users/WorkAccount/Desktop/Linnaeus_5_64X64/\"\n",
    "\n",
    "if path != \"\":\n",
    "    x_train, x_test = load_data(path)\n",
    "else:\n",
    "    (x_train, _), (x_test, _) = cifar10.load_data()\n",
    "    x_train = color.rgb2gray(x_train)\n",
    "    x_test = color.rgb2gray(x_test)\n",
    "\n",
    "im_shape = x_train.shape\n",
    "\n",
    "val_gen = DataGenerator(AF, x_test).flow_z_filled_images()"
   ]
  },
  {
   "cell_type": "code",
   "execution_count": 161,
   "metadata": {},
   "outputs": [],
   "source": [
    "all_net_params = [\n",
    "    {\n",
    "        'name': 'unet_gan',\n",
    "        'init_function': unet,\n",
    "        'run_params': {\n",
    "            'n_layers': 4, \n",
    "            'pool': 'max', \n",
    "            \"layers_n_channels\": [16, 32, 64, 128], \n",
    "            'layers_n_non_lins': 2,\n",
    "            \"input_size\":(64, 64, 1),\n",
    "        },\n",
    "        'val_gen': val_gen,\n",
    "        'run_id': 'unet_gan_af2_1576259200',\n",
    "    },\n",
    "]"
   ]
  },
  {
   "cell_type": "code",
   "execution_count": 185,
   "metadata": {},
   "outputs": [],
   "source": [
    "def unpack_model(init_function=None, run_params=None, run_id=None, epoch=50, **dummy_kwargs):\n",
    "        g = init_function(**run_params)\n",
    "        g.name = 'Reconstructor'\n",
    "        chkpt_path = f'../checkpoints/{run_id}-{epoch}.hdf5'\n",
    "        g.load_weights(chkpt_path)\n",
    "        return g\n",
    "\n",
    "def metrics_for_params(reco_function=None, val_gen=None, name=None, **net_params):\n",
    "    g = unpack_model(**net_params)\n",
    "    metrics = Metrics(METRIC_FUNCS)\n",
    "    pred_and_gt=[]\n",
    "    for i in tqdm_notebook(range(x_test.shape[0]), desc=f'Val files for {name}'):\n",
    "        x, y = next(val_gen)\n",
    "        pred_and_gt.append((np.squeeze(g.predict(x), axis=3), np.squeeze(y, axis=3)))\n",
    "    for im_recos, images in tqdm_notebook(pred_and_gt, desc=f'Stats for {name}'):\n",
    "        metrics.push(images, im_recos)\n",
    "    print(len(pred_and_gt))\n",
    "    return metrics"
   ]
  },
  {
   "cell_type": "code",
   "execution_count": 186,
   "metadata": {},
   "outputs": [
    {
     "name": "stdout",
     "output_type": "stream",
     "text": [
      "{'name': 'unet_gan', 'init_function': <function unet at 0x1c3c526710>, 'run_params': {'n_layers': 4, 'pool': 'max', 'layers_n_channels': [16, 32, 64, 128], 'layers_n_non_lins': 2, 'input_size': (64, 64, 1)}, 'val_gen': <fastmri_recon.helpers.threadsafe_gen.threadsafe_iter object at 0x1c3d101750>, 'run_id': 'unet_gan_af2_1576259200'}\n"
     ]
    },
    {
     "name": "stderr",
     "output_type": "stream",
     "text": [
      "/Users/WorkAccount/miniconda3/envs/gan/lib/python3.7/site-packages/ipykernel_launcher.py:12: TqdmDeprecationWarning: This function will be removed in tqdm==5.0.0\n",
      "Please use `tqdm.notebook.tqdm` instead of `tqdm.tqdm_notebook`\n",
      "  if sys.path[0] == '':\n"
     ]
    },
    {
     "data": {
      "application/vnd.jupyter.widget-view+json": {
       "model_id": "863fa0024f3247c696172676b373f96c",
       "version_major": 2,
       "version_minor": 0
      },
      "text/plain": [
       "HBox(children=(IntProgress(value=0, description='Val files for unet_gan', max=2000, style=ProgressStyle(descri…"
      ]
     },
     "metadata": {},
     "output_type": "display_data"
    },
    {
     "name": "stdout",
     "output_type": "stream",
     "text": [
      "\n"
     ]
    },
    {
     "name": "stderr",
     "output_type": "stream",
     "text": [
      "/Users/WorkAccount/miniconda3/envs/gan/lib/python3.7/site-packages/ipykernel_launcher.py:15: TqdmDeprecationWarning: This function will be removed in tqdm==5.0.0\n",
      "Please use `tqdm.notebook.tqdm` instead of `tqdm.tqdm_notebook`\n",
      "  from ipykernel import kernelapp as app\n"
     ]
    },
    {
     "data": {
      "application/vnd.jupyter.widget-view+json": {
       "model_id": "750653c5485742f5aaa2e5bf85d9abf5",
       "version_major": 2,
       "version_minor": 0
      },
      "text/plain": [
       "HBox(children=(IntProgress(value=0, description='Stats for unet_gan', max=2000, style=ProgressStyle(descriptio…"
      ]
     },
     "metadata": {},
     "output_type": "display_data"
    },
    {
     "name": "stdout",
     "output_type": "stream",
     "text": [
      "\n",
      "2000\n",
      "CPU times: user 49.4 s, sys: 3.82 s, total: 53.2 s\n",
      "Wall time: 32.7 s\n"
     ]
    }
   ],
   "source": [
    "%%time\n",
    "metrics = []\n",
    "for net_params in all_net_params:\n",
    "    metrics.append((net_params['name'], metrics_for_params(**net_params)))"
   ]
  },
  {
   "cell_type": "code",
   "execution_count": 187,
   "metadata": {},
   "outputs": [
    {
     "name": "stdout",
     "output_type": "stream",
     "text": [
      "[('unet_gan', PSNR = 12.42 +/- 4.245 SSIM = 0.1931 +/- 0.1903)]\n"
     ]
    }
   ],
   "source": [
    "print(metrics)"
   ]
  },
  {
   "cell_type": "code",
   "execution_count": 188,
   "metadata": {},
   "outputs": [],
   "source": [
    "def n_model_params_for_params(val_gen=None, name=None, **net_params):\n",
    "    model = unpack_model(**net_params)\n",
    "    n_params = model.count_params()\n",
    "    return n_params"
   ]
  },
  {
   "cell_type": "code",
   "execution_count": 190,
   "metadata": {},
   "outputs": [
    {
     "name": "stdout",
     "output_type": "stream",
     "text": [
      "CPU times: user 3.82 s, sys: 120 ms, total: 3.94 s\n",
      "Wall time: 3.99 s\n"
     ]
    }
   ],
   "source": [
    "%%time\n",
    "n_params = {}\n",
    "for net_params in all_net_params:\n",
    "    n_params[net_params['name']] =  n_model_params_for_params(**net_params)"
   ]
  },
  {
   "cell_type": "code",
   "execution_count": 196,
   "metadata": {},
   "outputs": [],
   "source": [
    "def runtime_for_params(reco_function=None, val_gen=None, name=None, **net_params):\n",
    "    g = unpack_model(**net_params)\n",
    "    x, y = next(val_gen)\n",
    "    start = time.time()\n",
    "    pred = g.predict(x)\n",
    "    end = time.time()\n",
    "    return end - start"
   ]
  },
  {
   "cell_type": "code",
   "execution_count": 197,
   "metadata": {},
   "outputs": [
    {
     "name": "stderr",
     "output_type": "stream",
     "text": [
      "/Users/WorkAccount/miniconda3/envs/gan/lib/python3.7/site-packages/ipykernel_launcher.py:2: TqdmDeprecationWarning: This function will be removed in tqdm==5.0.0\n",
      "Please use `tqdm.notebook.tqdm` instead of `tqdm.tqdm_notebook`\n",
      "  \n"
     ]
    },
    {
     "data": {
      "application/vnd.jupyter.widget-view+json": {
       "model_id": "42d5d6ca9c204dd7820d14745bd0f71a",
       "version_major": 2,
       "version_minor": 0
      },
      "text/plain": [
       "HBox(children=(IntProgress(value=0, max=1), HTML(value='')))"
      ]
     },
     "metadata": {},
     "output_type": "display_data"
    },
    {
     "name": "stdout",
     "output_type": "stream",
     "text": [
      "\n",
      "CPU times: user 5.3 s, sys: 151 ms, total: 5.45 s\n",
      "Wall time: 5.48 s\n"
     ]
    }
   ],
   "source": [
    "%%time\n",
    "runtimes = {}\n",
    "for net_params in tqdm_notebook(all_net_params):\n",
    "    runtimes[net_params['name']] =  runtime_for_params(**net_params)"
   ]
  },
  {
   "cell_type": "code",
   "execution_count": 198,
   "metadata": {},
   "outputs": [],
   "source": [
    "metrics_table = pd.DataFrame(\n",
    "    index=[name for name, _ in metrics], \n",
    "    columns=['PSNR-mean (std) (dB)', 'SSIM-mean (std)', '# params', 'Runtime (s)'],\n",
    ")\n",
    "for name, m in metrics:\n",
    "    metrics_table.loc[name, 'PSNR-mean (std) (dB)'] = \"{mean:.4} ({std:.4})\".format(\n",
    "        mean=m.metrics['PSNR'].mean(), \n",
    "        std=m.metrics['PSNR'].stddev(),\n",
    "    )\n",
    "    metrics_table.loc[name, 'SSIM-mean (std)'] = \"{mean:.4} ({std:.4})\".format(\n",
    "        mean=m.metrics['SSIM'].mean(), \n",
    "        std=m.metrics['SSIM'].stddev(),\n",
    "    )\n",
    "    metrics_table.loc[name, '# params'] = \"{}\".format(\n",
    "        n_params[name], \n",
    "     )\n",
    "    metrics_table.loc[name, 'Runtime (s)'] = \"{runtime:.4}\".format(\n",
    "        runtime=runtimes[name], \n",
    "    )"
   ]
  },
  {
   "cell_type": "code",
   "execution_count": 199,
   "metadata": {},
   "outputs": [
    {
     "data": {
      "text/html": [
       "<div>\n",
       "<style scoped>\n",
       "    .dataframe tbody tr th:only-of-type {\n",
       "        vertical-align: middle;\n",
       "    }\n",
       "\n",
       "    .dataframe tbody tr th {\n",
       "        vertical-align: top;\n",
       "    }\n",
       "\n",
       "    .dataframe thead th {\n",
       "        text-align: right;\n",
       "    }\n",
       "</style>\n",
       "<table border=\"1\" class=\"dataframe\">\n",
       "  <thead>\n",
       "    <tr style=\"text-align: right;\">\n",
       "      <th></th>\n",
       "      <th>PSNR-mean (std) (dB)</th>\n",
       "      <th>SSIM-mean (std)</th>\n",
       "      <th># params</th>\n",
       "      <th>Runtime (s)</th>\n",
       "    </tr>\n",
       "  </thead>\n",
       "  <tbody>\n",
       "    <tr>\n",
       "      <th>unet_gan</th>\n",
       "      <td>12.42 (2.122)</td>\n",
       "      <td>0.1931 (0.09515)</td>\n",
       "      <td>481801</td>\n",
       "      <td>1.453</td>\n",
       "    </tr>\n",
       "  </tbody>\n",
       "</table>\n",
       "</div>"
      ],
      "text/plain": [
       "         PSNR-mean (std) (dB)   SSIM-mean (std) # params Runtime (s)\n",
       "unet_gan        12.42 (2.122)  0.1931 (0.09515)   481801       1.453"
      ]
     },
     "execution_count": 199,
     "metadata": {},
     "output_type": "execute_result"
    }
   ],
   "source": [
    "metrics_table"
   ]
  },
  {
   "cell_type": "code",
   "execution_count": null,
   "metadata": {},
   "outputs": [],
   "source": []
  }
 ],
 "metadata": {
  "kernelspec": {
   "display_name": "Python 3",
   "language": "python",
   "name": "python3"
  },
  "language_info": {
   "codemirror_mode": {
    "name": "ipython",
    "version": 3
   },
   "file_extension": ".py",
   "mimetype": "text/x-python",
   "name": "python",
   "nbconvert_exporter": "python",
   "pygments_lexer": "ipython3",
   "version": "3.7.5"
  }
 },
 "nbformat": 4,
 "nbformat_minor": 1
}
